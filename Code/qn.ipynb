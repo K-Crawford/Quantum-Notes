{
 "cells": [
  {
   "cell_type": "code",
   "execution_count": 1,
   "id": "089814c4-db0a-44fa-9db8-6a5e0115e0c1",
   "metadata": {
    "tags": []
   },
   "outputs": [],
   "source": [
    "# Importing standard Qiskit libraries\n",
    "from qiskit import QuantumCircuit, transpile\n",
    "from qiskit.tools.jupyter import *\n",
    "from qiskit.visualization import *\n",
    "from ibm_quantum_widgets import *\n",
    "from qiskit_aer import AerSimulator\n",
    "\n",
    "from qiskit_ibm_runtime import QiskitRuntimeService, Sampler, Estimator, Session, Options\n",
    "\n",
    "# Loading your IBM Quantum account(s)\n",
    "service = QiskitRuntimeService(channel=\"ibm_quantum\")"
   ]
  },
  {
   "cell_type": "code",
   "execution_count": null,
   "id": "455b2850-6f5b-4ae9-a358-9fb58c4f8621",
   "metadata": {
    "tags": []
   },
   "outputs": [],
   "source": [
    "from qiskit import QuantumCircuit, Aer, execute\n",
    "\n",
    "# PARAMETERS\n",
    "\n",
    "# Beats per minute\n",
    "bpm = 4  # /4\n",
    "measures = 60\n",
    "beats = bpm * measures\n",
    "\n",
    "# Shots for key determination\n",
    "key_shots = 50\n",
    "\n",
    "# DICTIONARY FOR NOTE TYPES\n",
    "\n",
    "# Dictionary mapping binary representations to note durations\n",
    "type_conversion_dict = {\n",
    "    '000': 4,    # whole\n",
    "    '001': 3,    # dotted half\n",
    "    '010': 2,    # half\n",
    "    '011': 1.5,  # dotted quarter\n",
    "    '100': 1,    # quarter\n",
    "    '101': 0.5,  # eighth\n",
    "    '110': 0.25, # sixteenth\n",
    "    '111': 1     # quarter\n",
    "}\n",
    "\n",
    "# TYPE CIRCUIT\n",
    "\n",
    "# Quantum circuit to determine note types\n",
    "type_circuit = QuantumCircuit(3, 3)\n",
    "type_circuit.h([0, 1, 2])\n",
    "type_circuit.measure([0, 1, 2], [0, 1, 2])\n",
    "\n",
    "# Execute the type circuit\n",
    "t_shots_number = round(beats * 4)\n",
    "backend = Aer.get_backend('qasm_simulator')\n",
    "job_t = execute(type_circuit, backend, shots=t_shots_number, memory=True)\n",
    "result_t = job_t.result()\n",
    "type_outcomes = result_t.get_memory()\n",
    "\n",
    "# Convert outcomes to note types\n",
    "initial_types_list = []\n",
    "for i in type_outcomes:\n",
    "    note_type = type_conversion_dict[i]\n",
    "    initial_types_list.append(note_type)\n",
    "\n",
    "# Determine the sequence of note types within the given beats\n",
    "count = 0\n",
    "types_list = []\n",
    "for i in initial_types_list:\n",
    "    if (count + i) <= beats:\n",
    "        types_list.append(i)\n",
    "        count += i\n",
    "\n",
    "# Total number of notes\n",
    "number_of_notes = len(types_list)\n",
    "\n",
    "\n",
    "# GET NOTES\n",
    "\n",
    "# Quantum circuit to generate musical notes\n",
    "circuit = QuantumCircuit(3, 3)\n",
    "circuit.h([0, 1, 2])\n",
    "circuit.measure([0, 1, 2], [0, 1, 2])\n",
    "\n",
    "# Execute the circuit to generate notes\n",
    "backend = Aer.get_backend('qasm_simulator')\n",
    "job = execute(circuit, backend, shots=number_of_notes, memory=True)\n",
    "result = job.result()\n",
    "outcomes = result.get_memory()\n",
    "\n",
    "# Convert outcomes to musical notes\n",
    "notes_list = []\n",
    "note_conversion_dict = {\n",
    "    '000': 'A', \n",
    "    '001': 'B', \n",
    "    '010': 'C', \n",
    "    '011': 'D',\n",
    "    '100': 'E', \n",
    "    '101': 'F', \n",
    "    '110': 'G', \n",
    "    '111': 'r'\n",
    "}\n",
    "\n",
    "for i in outcomes:\n",
    "    note = note_conversion_dict[i]\n",
    "    notes_list.append(note)\n",
    "\n",
    "\n",
    "# GET NOTE \"LEVEL\"\n",
    "\n",
    "# Quantum circuit to determine note levels\n",
    "level_circ = QuantumCircuit(1, 1)\n",
    "level_circ.h(0)\n",
    "level_circ.measure(0, 0)\n",
    "\n",
    "# Execute the circuit to determine note levels\n",
    "job_l = execute(level_circ, backend, shots=t_shots_number, memory=True)\n",
    "result_l = job_l.result()\n",
    "level_outcomes = result_l.get_memory()\n",
    "\n",
    "# Convert outcomes to note levels\n",
    "levels_list = []\n",
    "levels = [\"'\", \"''\"]\n",
    "for i in level_outcomes:\n",
    "    state = int(i)\n",
    "    l = str(levels[state])\n",
    "    levels_list.append(l)\n",
    "\n",
    "\n",
    "# GET KEY SIGNATURE\n",
    "\n",
    "# PART 1: QUANTITY\n",
    "\n",
    "# Quantum circuit to determine the quantity of key signatures\n",
    "key_circuit = QuantumCircuit(3, 3)\n",
    "key_circuit.h([0, 1, 2])\n",
    "key_circuit.measure([0, 1, 2], [0, 1, 2])\n",
    "\n",
    "# Execute the circuit to determine the quantity of key signatures\n",
    "job_k = execute(key_circuit, backend, shots=10000)\n",
    "result_k = job_k.result()\n",
    "counts_dict = result_k.get_counts()\n",
    "\n",
    "# Find the most probable key signature\n",
    "values = list(counts_dict.values())\n",
    "keys = list(counts_dict.keys())\n",
    "largest_number = 0\n",
    "final_key = \"\"\n",
    "for i in range(len(values)):\n",
    "    if values[i] > largest_number:\n",
    "        largest_number = values[i]\n",
    "        final_key = keys[i]\n",
    "\n",
    "# Convert binary key signature to number of sharps/flats\n",
    "key_conversion_dict = {\n",
    "    '000': 0, '001': 1, '010': 2, '011': 3,\n",
    "    '100': 4, '101': 5, '110': 6, '111': 7\n",
    "}\n",
    "number_of_sf = key_conversion_dict[final_key]\n",
    "\n",
    "# PART 2: SHARPS OR FLATS\n",
    "\n",
    "# Quantum circuit to determine whether the key signature has sharps or flats\n",
    "sf_circuit = QuantumCircuit(1, 1)\n",
    "sf_circuit.h(0)\n",
    "sf_circuit.measure(0, 0)\n",
    "\n",
    "# Execute the circuit to determine sharps or flats\n",
    "job_sf = execute(sf_circuit, backend, shots=10000)\n",
    "result_sf = job_sf.result()\n",
    "sf_dict = result_sf.get_counts()\n",
    "\n",
    "# Determine if the key is sharp or flat based on measurement results\n",
    "values2 = list(sf_dict.values())\n",
    "keys2 = list(sf_dict.keys())\n",
    "sharp_keys = [\"C\", \"G\", \"D\", \"A\", \"E\", \"B\", \"Fis\", \"Cis\"]\n",
    "flat_keys = [\"C\", \"F\", \"Bes\", \"Ees\", \"Aes\", \"Des\", \"Ges\", \"Ces\"]\n",
    "if values2[0] > values2[1]:\n",
    "    key = sharp_keys[number_of_sf].lower()\n",
    "else:\n",
    "    key = flat_keys[number_of_sf].lower()\n",
    "\n",
    "\n",
    "# APPLY ACCIDENTALS TO NOTES\n",
    "\n",
    "# Function to apply accidentals to notes based on key signature\n",
    "def apply_accidentals(is_sharp, num_accidentals, notes):\n",
    "    new_notes = []\n",
    "    if num_accidentals > 0:\n",
    "        if is_sharp:\n",
    "            sharps = ['F', 'C', 'G', 'D', 'A', 'E', 'D']\n",
    "            for i in range(num_accidentals):\n",
    "                new_notes.append(notes[i] + \"is\" if notes[i].upper() in sharps[:num_accidentals] else notes[i])\n",
    "        else:\n",
    "            flats = ['B', 'E', 'A', 'D', 'G', 'C', 'F']\n",
    "            for i in range(num_accidentals):\n",
    "                new_notes.append(notes[i] + \"es\" if notes[i].upper() in flats[:num_accidentals] else notes[i])\n",
    "    else:\n",
    "        new_notes = notes\n",
    "    return new_notes\n",
    "\n",
    "# Apply accidentals to notes based on key signature\n",
    "if values[0] > values[1]:\n",
    "    new_notes = apply_accidentals(True, number_of_sf, notes_list)\n",
    "else:\n",
    "    new_notes = apply_accidentals(False, number_of_sf, notes_list)\n",
    "\n",
    "\n",
    "# CONVERT NOTE TYPES\n",
    "\n",
    "# Convert note types to their respective notation symbols\n",
    "converted_types = []\n",
    "for i in types_list:\n",
    "    if i == 4:\n",
    "        converted_types.append(\"1\")\n",
    "    elif i == 3:\n",
    "        converted_types.append(\"2.\")\n",
    "    elif i == 2:\n",
    "        converted_types.append(\"2\")\n",
    "    elif i == 1.5:\n",
    "        converted_types.append(\"4.\")\n",
    "    elif i == 1:\n",
    "        converted_types.append(\"8\")\n",
    "    elif i == 0.25:\n",
    "        converted_types.append(\"16\")\n",
    "\n",
    "# PRINT THE SCORE\n",
    "\n",
    "# Printing the musical score in Lilypond syntax\n",
    "print(\"  \\key \" + str(key) + \" \\major\")\n",
    "for i in range(len(converted_types)):\n",
    "    note = new_notes[i].lower()\n",
    "    if note == \"r\":\n",
    "        final_line = note + converted_types[i]\n",
    "    else:\n",
    "        final_line = note + str(levels_list[i]) + converted_types[i]\n",
    "    print(final_line)"
   ]
  }
 ],
 "metadata": {
  "kernelspec": {
   "display_name": "Python 3 (ipykernel)",
   "language": "python",
   "name": "python3"
  },
  "language_info": {
   "codemirror_mode": {
    "name": "ipython",
    "version": 3
   },
   "file_extension": ".py",
   "mimetype": "text/x-python",
   "name": "python",
   "nbconvert_exporter": "python",
   "pygments_lexer": "ipython3",
   "version": "3.10.8"
  },
  "widgets": {
   "application/vnd.jupyter.widget-state+json": {
    "state": {
     "01ad293dc2d04a8ab0d2cbeee95c1c73": {
      "model_module": "@jupyter-widgets/controls",
      "model_module_version": "2.0.0",
      "model_name": "HBoxModel",
      "state": {
       "children": [
        "IPY_MODEL_e00b3688674849a8a63073e1186fa802",
        "IPY_MODEL_bab07337dfbd431b9f8392bf1df1804b",
        "IPY_MODEL_6d34c0fdbb6945fb9525a0dfca008db6",
        "IPY_MODEL_9d60b2ba6eb440d9a1cf50ff1531a2f0",
        "IPY_MODEL_3b0dba4bb702424c94e41d9ed1e7fc15"
       ],
       "layout": "IPY_MODEL_bcade8d8b4e54d3ebdd0b062f8e3ffb9"
      }
     },
     "066c065c75e045d5b3aa2ee98155b9ab": {
      "model_module": "@jupyter-widgets/base",
      "model_module_version": "2.0.0",
      "model_name": "LayoutModel",
      "state": {
       "grid_area": "right",
       "padding": "0px 0px 0px 0px",
       "width": "70px"
      }
     },
     "28381227876e4d208d533e61f33c7514": {
      "model_module": "@jupyter-widgets/base",
      "model_module_version": "2.0.0",
      "model_name": "LayoutModel",
      "state": {
       "width": "70px"
      }
     },
     "344fb9d9c9ae4ec59d60e0112bb54fee": {
      "model_module": "@jupyter-widgets/base",
      "model_module_version": "2.0.0",
      "model_name": "LayoutModel",
      "state": {
       "width": "95px"
      }
     },
     "3b0dba4bb702424c94e41d9ed1e7fc15": {
      "model_module": "@jupyter-widgets/controls",
      "model_module_version": "2.0.0",
      "model_name": "HTMLModel",
      "state": {
       "layout": "IPY_MODEL_88575f4b9b594cd0a480062b386a4e7f",
       "style": "IPY_MODEL_c2ffd3dbafa144c8ac2cf5df642a69c4",
       "value": "<h5>Message</h5>"
      }
     },
     "4c898517f3a948edaa5f5c66e76aabc6": {
      "model_module": "@jupyter-widgets/controls",
      "model_module_version": "2.0.0",
      "model_name": "HTMLStyleModel",
      "state": {
       "description_width": "",
       "font_size": null,
       "text_color": null
      }
     },
     "51a6d7ce14fa4ad38c7bd9f9d4289977": {
      "model_module": "@jupyter-widgets/controls",
      "model_module_version": "2.0.0",
      "model_name": "HTMLStyleModel",
      "state": {
       "description_width": "",
       "font_size": null,
       "text_color": null
      }
     },
     "5e3c7c1f50414faaaa07915c9b3e962d": {
      "model_module": "@jupyter-widgets/controls",
      "model_module_version": "2.0.0",
      "model_name": "HTMLStyleModel",
      "state": {
       "description_width": "",
       "font_size": null,
       "text_color": null
      }
     },
     "67d19644a9c44fe494b95fa1b2c76f59": {
      "model_module": "@jupyter-widgets/controls",
      "model_module_version": "2.0.0",
      "model_name": "HTMLModel",
      "state": {
       "layout": "IPY_MODEL_b9e2446060c4488f8c4e8ed0bd5ae7ef",
       "style": "IPY_MODEL_4c898517f3a948edaa5f5c66e76aabc6",
       "value": "<p style='font-family: IBM Plex Sans, Arial, Helvetica, sans-serif; font-size: 20px; font-weight: medium;'>Circuit Properties</p>"
      }
     },
     "6a64ccbbaf084ff0b0f5f3d46a65bde8": {
      "model_module": "@jupyter-widgets/controls",
      "model_module_version": "2.0.0",
      "model_name": "ButtonModel",
      "state": {
       "button_style": "primary",
       "description": "Clear",
       "layout": "IPY_MODEL_066c065c75e045d5b3aa2ee98155b9ab",
       "style": "IPY_MODEL_d06c4391faca4fc3884c019964f05eb9",
       "tooltip": null
      }
     },
     "6d34c0fdbb6945fb9525a0dfca008db6": {
      "model_module": "@jupyter-widgets/controls",
      "model_module_version": "2.0.0",
      "model_name": "HTMLModel",
      "state": {
       "layout": "IPY_MODEL_344fb9d9c9ae4ec59d60e0112bb54fee",
       "style": "IPY_MODEL_d82c278356e54721b0b08c9eaeacd1f1",
       "value": "<h5>Status</h5>"
      }
     },
     "7763ba37217d45e2b9a9ca2f8c9774ad": {
      "model_module": "@jupyter-widgets/controls",
      "model_module_version": "2.0.0",
      "model_name": "HTMLStyleModel",
      "state": {
       "description_width": "",
       "font_size": null,
       "text_color": null
      }
     },
     "84cdfe7547094724b387800bee30f1c2": {
      "model_module": "@jupyter-widgets/base",
      "model_module_version": "2.0.0",
      "model_name": "LayoutModel",
      "state": {
       "width": "190px"
      }
     },
     "88575f4b9b594cd0a480062b386a4e7f": {
      "model_module": "@jupyter-widgets/base",
      "model_module_version": "2.0.0",
      "model_name": "LayoutModel",
      "state": {}
     },
     "890a02833d4d4668a31962e590d3635c": {
      "model_module": "@jupyter-widgets/base",
      "model_module_version": "2.0.0",
      "model_name": "LayoutModel",
      "state": {
       "grid_template_areas": "\n                                       \". . . . right \"\n                                        ",
       "grid_template_columns": "20% 20% 20% 20% 20%",
       "width": "100%"
      }
     },
     "8920af66a43a48528cc5af94b83fb555": {
      "model_module": "@jupyter-widgets/base",
      "model_module_version": "2.0.0",
      "model_name": "LayoutModel",
      "state": {
       "width": "145px"
      }
     },
     "9d60b2ba6eb440d9a1cf50ff1531a2f0": {
      "model_module": "@jupyter-widgets/controls",
      "model_module_version": "2.0.0",
      "model_name": "HTMLModel",
      "state": {
       "layout": "IPY_MODEL_28381227876e4d208d533e61f33c7514",
       "style": "IPY_MODEL_5e3c7c1f50414faaaa07915c9b3e962d",
       "value": "<h5>Queue</h5>"
      }
     },
     "b9e2446060c4488f8c4e8ed0bd5ae7ef": {
      "model_module": "@jupyter-widgets/base",
      "model_module_version": "2.0.0",
      "model_name": "LayoutModel",
      "state": {
       "margin": "0px 0px 10px 0px"
      }
     },
     "bab07337dfbd431b9f8392bf1df1804b": {
      "model_module": "@jupyter-widgets/controls",
      "model_module_version": "2.0.0",
      "model_name": "HTMLModel",
      "state": {
       "layout": "IPY_MODEL_8920af66a43a48528cc5af94b83fb555",
       "style": "IPY_MODEL_7763ba37217d45e2b9a9ca2f8c9774ad",
       "value": "<h5>Backend</h5>"
      }
     },
     "bcade8d8b4e54d3ebdd0b062f8e3ffb9": {
      "model_module": "@jupyter-widgets/base",
      "model_module_version": "2.0.0",
      "model_name": "LayoutModel",
      "state": {
       "margin": "0px 0px 0px 37px",
       "width": "600px"
      }
     },
     "c2ffd3dbafa144c8ac2cf5df642a69c4": {
      "model_module": "@jupyter-widgets/controls",
      "model_module_version": "2.0.0",
      "model_name": "HTMLStyleModel",
      "state": {
       "description_width": "",
       "font_size": null,
       "text_color": null
      }
     },
     "d06c4391faca4fc3884c019964f05eb9": {
      "model_module": "@jupyter-widgets/controls",
      "model_module_version": "2.0.0",
      "model_name": "ButtonStyleModel",
      "state": {
       "font_family": null,
       "font_size": null,
       "font_style": null,
       "font_variant": null,
       "font_weight": null,
       "text_color": null,
       "text_decoration": null
      }
     },
     "d82c278356e54721b0b08c9eaeacd1f1": {
      "model_module": "@jupyter-widgets/controls",
      "model_module_version": "2.0.0",
      "model_name": "HTMLStyleModel",
      "state": {
       "description_width": "",
       "font_size": null,
       "text_color": null
      }
     },
     "e00b3688674849a8a63073e1186fa802": {
      "model_module": "@jupyter-widgets/controls",
      "model_module_version": "2.0.0",
      "model_name": "HTMLModel",
      "state": {
       "layout": "IPY_MODEL_84cdfe7547094724b387800bee30f1c2",
       "style": "IPY_MODEL_51a6d7ce14fa4ad38c7bd9f9d4289977",
       "value": "<h5>Job ID</h5>"
      }
     },
     "ebcb2261ba064a0981d95b95cfa5c2fb": {
      "model_module": "@jupyter-widgets/controls",
      "model_module_version": "2.0.0",
      "model_name": "GridBoxModel",
      "state": {
       "children": [
        "IPY_MODEL_6a64ccbbaf084ff0b0f5f3d46a65bde8"
       ],
       "layout": "IPY_MODEL_890a02833d4d4668a31962e590d3635c"
      }
     }
    },
    "version_major": 2,
    "version_minor": 0
   }
  }
 },
 "nbformat": 4,
 "nbformat_minor": 5
}
